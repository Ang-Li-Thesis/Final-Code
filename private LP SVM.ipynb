{
 "cells": [
  {
   "cell_type": "code",
   "execution_count": null,
   "metadata": {},
   "outputs": [],
   "source": [
    "from __future__ import print_function\n",
    "import numpy as np\n",
    "import random as rd\n",
    "import pandas as pd\n",
    "from sklearn.metrics import classification_report, confusion_matrix  \n",
    "from scipy.optimize import linprog\n",
    "from sklearn.preprocessing import normalize\n",
    "from scipy.spatial.distance import pdist, squareform\n",
    "from scipy.ndimage import gaussian_filter\n",
    "import scipy as scip\n",
    "from ortools.linear_solver import pywraplp\n",
    "from sklearn import preprocessing\n",
    "from sklearn.metrics.pairwise import rbf_kernel\n",
    "from sklearn.utils import shuffle\n",
    "from sklearn.model_selection import train_test_split\n",
    "from sklearn import metrics\n",
    "from pulp import *\n",
    "from numpy.random import rand\n",
    "import matplotlib.pyplot as plt\n",
    "import cvxpy as cp\n",
    "import time\n",
    "from sklearn.model_selection import KFold\n",
    "\n",
    "\n",
    "import gurobipy as gp\n",
    "from gurobipy import GRB"
   ]
  },
  {
   "cell_type": "markdown",
   "metadata": {},
   "source": [
    "# Private Algorithm"
   ]
  },
  {
   "cell_type": "code",
   "execution_count": null,
   "metadata": {},
   "outputs": [],
   "source": [
    "\"\"\"Bregman projection\"\"\"\n",
    "def bregman(weights, s, c):\n",
    "    B = [1] * len(weights)\n",
    "    for i in range(len(weights)):\n",
    "        B[i] = min(1, c * weights[i])/s\n",
    "    return B"
   ]
  },
  {
   "cell_type": "code",
   "execution_count": null,
   "metadata": {},
   "outputs": [],
   "source": [
    "\"\"\"The multiplicative weights update algorithm\"\"\"\n",
    "def MWUA(objects, A, b, c, reward, numRounds, eta, optimalValue, rho, alpha, weights, s, c_bregman):\n",
    "#     weights = rand(len(objects))\n",
    "    cumulativeReward = 0\n",
    "    outcomes = []\n",
    "    for t in range(numRounds):\n",
    "        dense_weights = bregman(weights, s, c_bregman)\n",
    "        outcome = oracle(dense_weights, A, b, c, optimalValue, rho, alpha, s)\n",
    "        outcomes.append(outcome)\n",
    "        for i in range(len(weights)):\n",
    "            weights[i] *= np.exp(- eta * reward(i, outcome))[0]\n",
    "    return weights, outcomes"
   ]
  },
  {
   "cell_type": "code",
   "execution_count": null,
   "metadata": {},
   "outputs": [],
   "source": [
    "class InfeasibleException(Exception):\n",
    "    pass"
   ]
  },
  {
   "cell_type": "code",
   "execution_count": null,
   "metadata": {},
   "outputs": [],
   "source": [
    "\"\"\"Exponential mechanism\"\"\"\n",
    "def oracle(weights, A, b, c, optimalValue, rho, alpha, s):\n",
    "    weightedVector = A.transpose().dot(weights)\n",
    "    n, m = A.shape\n",
    "    variable_size = int((m - 1)/3)\n",
    "    sensitivity = 3*np.absolute(optimalValue)/(np.min(np.absolute(c[c!=0]))*s)   \n",
    "    prob = [0] * variable_size * 2\n",
    "    all_solutions = np.zeros((variable_size * 2 ,m))\n",
    "    print('sensitivity ' + str(sensitivity))\n",
    "    for resp in range(variable_size * 2):\n",
    "        fixed_solution = [0] * variable_size * 2\n",
    "        fixed_solution[resp] = optimalValue/c[resp + variable_size + 1]\n",
    "        x = pulp.LpVariable.dicts(\"x\", range(variable_size + 1), 0, None)\n",
    "        solver = pulp.LpProblem(\"test problem\",pulp.LpMinimize)\n",
    "        A_for_variable = A[:, :(variable_size + 1)]\n",
    "        A_for_fixed_solution = A[:, (variable_size + 1):]\n",
    "\n",
    "        for i in range(n):\n",
    "            solver += (pulp.lpSum([A_for_variable[i,j] * x[j] for j in range(variable_size + 1)]) + A_for_fixed_solution[i].T.dot(fixed_solution) - b[i] <= rho)\n",
    "            solver += (pulp.lpSum([A_for_variable[i,j] * x[j] for j in range(variable_size + 1)]) + A_for_fixed_solution[i].T.dot(fixed_solution) - b[i] >= -rho)    \n",
    "\n",
    "        solver += pulp.lpSum([weightedVector[i] * x[i] for i in range(variable_size + 1)]) \n",
    "        solver.solve()\n",
    "        for i in range(variable_size + 1):\n",
    "            all_solutions[resp,i] = x[i].varValue\n",
    "        all_solutions[resp, resp + variable_size + 1] = optimalValue/c[resp + variable_size + 1]\n",
    "        score = weightedVector.T.dot(all_solutions[resp]) - np.sum(b)\n",
    "        prob[resp] = np.exp(epsilon * score / (2*sensitivity) - np.floor((epsilon * score / 2*sensitivity)/10) * 10)\n",
    "    prob = prob/np.sum(prob)\n",
    "    \n",
    "    \n",
    "    p = np.random.choice(np.array(range(variable_size * 2)), 1, p = prob)\n",
    "    selected = np.reshape(np.array(all_solutions[p]), (m,1))\n",
    "    return selected"
   ]
  },
  {
   "cell_type": "code",
   "execution_count": null,
   "metadata": {},
   "outputs": [],
   "source": [
    "\"\"\"Get rho value\"\"\"\n",
    "def get_rho(A,b,c,OPT):\n",
    "    A_max = np.amax(np.absolute(A))\n",
    "    c = c[c != 0]\n",
    "    c_min = np.amin(np.absolute(c))\n",
    "    b_max = np.amin(np.absolute(b))\n",
    "    print('A min', A_max)\n",
    "    print('c max',c_min)\n",
    "    rho = (A_max / c_min) * OPT - b_max\n",
    "    print('rho', np.absolute(rho))\n",
    "    return np.absolute(rho)"
   ]
  },
  {
   "cell_type": "code",
   "execution_count": null,
   "metadata": {},
   "outputs": [],
   "source": [
    "\"\"\"Resolve private LP using the optimal value of this LP\"\"\"\n",
    "def solveGivenOptimalValue(A, b, linearObjective, optimalValue, numRounds, rho, alpha, weights, s, c_bregman):\n",
    "    m, n = A.shape  # m equations, n variables\n",
    "    eta = np.sqrt(np.log(m)/numRounds)\n",
    "    def reward(i, outcome):\n",
    "        constraint = A[i]\n",
    "        threshold = b[i]\n",
    "        return (threshold - np.dot(constraint, outcome)) / (2 * rho) + 1/2\n",
    "    weights, outcomes = MWUA(\n",
    "        range(m), A, b, linearObjective, reward, numRounds, eta, optimalValue, rho, alpha, weights, s, c_bregman\n",
    "    )\n",
    "    averageVector = np.mean(outcomes, axis = 0) \n",
    "\n",
    "    return averageVector"
   ]
  },
  {
   "cell_type": "code",
   "execution_count": null,
   "metadata": {},
   "outputs": [],
   "source": [
    "\"\"\"Rewrite input to fit the form of LP feasibility algorithm\n",
    "c'x s.t. Ax <= b\"\"\"\n",
    "\n",
    "#Correct\n",
    "#checked by simple example\n",
    "def get_input(variables, label, nu = 2):\n",
    "    e = pd.Series([1] * variables.shape[0])\n",
    "    d = variables.shape[1]\n",
    "    kernel = rbf_kernel(variables, gamma = 1 / (d * variables.var()))\n",
    "    D=np.diag(label.flatten())\n",
    "    A=np.dot(np.dot(D,kernel),D) \n",
    "    m,d=A.shape\n",
    "    I=np.identity(m)\n",
    "    O_m1=np.reshape(np.repeat(0,m),(m,1))\n",
    "    O_mm=np.zeros((m,m))\n",
    "    e=np.reshape(np.repeat(1,m),(m,1))\n",
    "    append=np.reshape(np.dot(D,e),(m,1))\n",
    "    A=np.concatenate((A,-append,I,O_mm),axis=1)\n",
    "    robust=np.zeros((3*m,3*m+1))\n",
    "    robust[0:m,0:m]=-I\n",
    "    robust[0:m,(2*m+1):(3*m+1)]=I\n",
    "    \n",
    "    robust[m:2*m,0:m]=I\n",
    "    robust[m:2*m,(2*m+1):(3*m+1)]=I   # delete minus\n",
    "    \n",
    "    robust[2*m:3*m,(m+1):(2*m+1)]=I\n",
    "    A=np.concatenate((A,robust),axis=0)\n",
    "    A = -A\n",
    "\n",
    "    b=np.zeros((4*m,1))\n",
    "    b[0:m,:]=-e\n",
    "    \n",
    "    c=np.zeros((3*m+1,1))\n",
    "    c[(m+1):(2*m+1),:]=-nu*e\n",
    "    c[(2*m+1):(3*m+1),:]=-e\n",
    "    return A,b,c,A.shape[0],A.shape[1],label,kernel,D"
   ]
  },
  {
   "cell_type": "code",
   "execution_count": null,
   "metadata": {},
   "outputs": [],
   "source": [
    "\"\"\"get otp for original SVM mathematical programming\"\"\"\n",
    "#Correct\n",
    "#checked by simple example\n",
    "def get_optimal(A,b,c):\n",
    "    n,m = A.shape\n",
    "#     solver = pywraplp.Solver('simple_mip_program',\n",
    "#                              pywraplp.Solver.GLOP_LINEAR_PROGRAMMING)\n",
    "#     infinity = solver.infinity()\n",
    "#     objective = solver.Objective()\n",
    "    x = cp.Variable(m)\n",
    "    obj = cp.Maximize(cp.sum(x*c))\n",
    "    print('Add constraints')\n",
    "    constraints = [A*x <= b.flatten()] \n",
    "    print('optimization')\n",
    "    prob = cp.Problem(obj, constraints)\n",
    "    prob.solve()\n",
    "    s = x.value\n",
    "    print('Objective value =', prob.value)\n",
    "    solution = np.zeros((A.shape[1],1))\n",
    "    for i in range(A.shape[1]):\n",
    "        solution[i,:] = s[i]\n",
    "    return prob.value, solution"
   ]
  },
  {
   "cell_type": "code",
   "execution_count": null,
   "metadata": {},
   "outputs": [],
   "source": [
    "def testModel(X, X_train, y, u, gamma, D):\n",
    "    kernel = rbf_kernel(X, Y=X_train, gamma=1)\n",
    "    ypred = np.dot(kernel, D).dot(u) - gamma\n",
    "    ypred[ypred <= 0] = -1\n",
    "    ypred[ypred >= 0] = 1\n",
    "    pred_error = 1 - np.abs(metrics.accuracy_score(y.flatten(), ypred))\n",
    "    return pred_error, ypred"
   ]
  },
  {
   "cell_type": "markdown",
   "metadata": {},
   "source": [
    "# Solve Private LP SVM"
   ]
  },
  {
   "cell_type": "code",
   "execution_count": null,
   "metadata": {},
   "outputs": [],
   "source": [
    "def solve(X, y, alpha_parameters):\n",
    "    feature_size = X.shape[1]    \n",
    "    kf = KFold(n_splits=4)\n",
    "    errors_priv, errors_nonpriv = [], []\n",
    "    for train_index, test_index in kf.split(X):\n",
    "        X_train, y_train = X[train_index], y[train_index]\n",
    "        X_test, y_test = X[test_index], y[test_index]\n",
    "        train_size = X_train.shape[0]\n",
    "        A,b,c,m,d,true_label,kernel,D=get_input(X_train, y_train)\n",
    "        OPT, solution_nonpriv = get_optimal(A,b,c)\n",
    "        m,d = A.shape\n",
    "        rho = get_rho(A,b,c,OPT)\n",
    "        beta = 0.2\n",
    "        weights = rand(len(b))\n",
    "        c_bregman = 1\n",
    "        s = np.sum([min(c_bregman * weight, 1) for weight in weights])\n",
    "        \n",
    "        alpha = alpha_parameter * rho\n",
    "        print('Alpha is ' + str(alpha))\n",
    "        T = int(np.ceil(36*rho**2*np.log(m)/(alpha**2)))\n",
    "        print('T is ' + str(T))\n",
    "\n",
    "        solution_priv = solveGivenOptimalValue(A, b, c, OPT, T, rho, alpha, weights, s, c_bregman)\n",
    "        u_nonpriv = solution_nonpriv[:train_size]\n",
    "        gamma_nonpriv = solution_nonpriv[train_size]\n",
    "        u_priv = solution_priv[:train_size]\n",
    "        gamma_priv = solution_priv[train_size]\n",
    "        y_priv = solution_priv[(train_size + 1): (2 * train_size + 1)]\n",
    "        s_priv = solution_priv[(2 * train_size + 1):]\n",
    "\n",
    "        error_priv, ypred_priv = testModel(X_test, X_train, y_test, u_priv, gamma_priv, D)\n",
    "        error_nonpriv, ypred_nonpriv = testModel(X_test, X_train, y_test, u_nonpriv, gamma_nonpriv, D)\n",
    "        errors_priv.append(error_priv)\n",
    "        errors_nonpriv.append(error_nonpriv)\n",
    "    return np.mean(errors_priv), np.mean(errors_nonpriv)"
   ]
  },
  {
   "cell_type": "markdown",
   "metadata": {},
   "source": [
    "# Adult Data Set"
   ]
  },
  {
   "cell_type": "code",
   "execution_count": null,
   "metadata": {},
   "outputs": [],
   "source": [
    "adult = pd.read_csv('adult_data.csv',sep = ';')\n",
    "X = adult[adult.columns[0:adult.shape[1]-1]]\n",
    "cols = X.columns\n",
    "\n",
    "min_max_scaler = preprocessing.MinMaxScaler()\n",
    "np_scaled = min_max_scaler.fit_transform(X)\n",
    "X = pd.DataFrame(np_scaled, columns = cols)\n",
    "X.iloc[:,:] = preprocessing.Normalizer(copy = True, norm='l2').fit_transform(X)\n",
    "X = X.values\n",
    "\n",
    "y = adult[adult.columns[adult.shape[1]-1:adult.shape[1]]]\n",
    "y = preprocessing.normalize(y, norm='l2')\n",
    "X = X[:600]\n",
    "y = y[:600]\n",
    "X, y = shuffle(X, y, random_state = 0)\n",
    "print(X.shape, y.shape)"
   ]
  },
  {
   "cell_type": "markdown",
   "metadata": {},
   "source": [
    "# KDDCup99 Data Set"
   ]
  },
  {
   "cell_type": "code",
   "execution_count": null,
   "metadata": {},
   "outputs": [],
   "source": [
    "kddcup99 = pd.read_csv('kddcup99.csv', sep = ';')\n",
    "n,d = kddcup99.shape\n",
    "y = np.reshape(np.array(kddcup99['label']),(n, 1))\n",
    "X = kddcup99.drop(columns = ['label'])\n",
    "cols = X.columns\n",
    "\n",
    "min_max_scaler = preprocessing.MinMaxScaler()\n",
    "np_scaled = min_max_scaler.fit_transform(X)\n",
    "X = pd.DataFrame(np_scaled, columns = cols)\n",
    "X.iloc[:,:] = preprocessing.Normalizer(copy = True, norm='l2').fit_transform(X)\n",
    "X = X.values\n",
    "\n",
    "y = preprocessing.normalize(y, norm='l2')\n",
    "X = X[:120]\n",
    "y = y[:120]\n",
    "# X, y = shuffle(X, y, random_state = 0)\n",
    "print(X.shape, y.shape)"
   ]
  },
  {
   "cell_type": "markdown",
   "metadata": {},
   "source": [
    "# Private Solve"
   ]
  },
  {
   "cell_type": "code",
   "execution_count": null,
   "metadata": {},
   "outputs": [],
   "source": [
    "# alpha_parameter = [5, 5.5, 6, 6.5, 7, 7.5, 8, 8.5, 9]\n",
    "alpha_parameter = 9\n",
    "epsilon = 0.3\n",
    "# train_test_size = 0.33"
   ]
  },
  {
   "cell_type": "code",
   "execution_count": null,
   "metadata": {},
   "outputs": [],
   "source": [
    "t0 = time.time()\n",
    "errors_priv, errors_nonpriv= solve(X, y, alpha_parameter)\n",
    "t1 = time.time()\n",
    "print('Runtime : ' + str(t1-t0))"
   ]
  },
  {
   "cell_type": "code",
   "execution_count": null,
   "metadata": {},
   "outputs": [],
   "source": [
    "errors_priv"
   ]
  },
  {
   "cell_type": "code",
   "execution_count": null,
   "metadata": {},
   "outputs": [],
   "source": [
    "errors_nonpriv"
   ]
  }
 ],
 "metadata": {
  "kernelspec": {
   "display_name": "Python 3",
   "language": "python",
   "name": "python3"
  },
  "language_info": {
   "codemirror_mode": {
    "name": "ipython",
    "version": 3
   },
   "file_extension": ".py",
   "mimetype": "text/x-python",
   "name": "python",
   "nbconvert_exporter": "python",
   "pygments_lexer": "ipython3",
   "version": "3.7.3"
  }
 },
 "nbformat": 4,
 "nbformat_minor": 4
}
